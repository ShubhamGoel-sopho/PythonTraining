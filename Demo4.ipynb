{
 "cells": [
  {
   "cell_type": "code",
   "execution_count": 1,
   "metadata": {},
   "outputs": [],
   "source": [
    "#Functions in python\n",
    "def hello():\n",
    "    print(\"hello from function\")"
   ]
  },
  {
   "cell_type": "code",
   "execution_count": 2,
   "metadata": {},
   "outputs": [
    {
     "name": "stdout",
     "output_type": "stream",
     "text": [
      "hello from function\n"
     ]
    }
   ],
   "source": [
    "hello()"
   ]
  },
  {
   "cell_type": "code",
   "execution_count": 12,
   "metadata": {},
   "outputs": [
    {
     "name": "stdout",
     "output_type": "stream",
     "text": [
      "Hi Shubham Goel\n"
     ]
    }
   ],
   "source": [
    "def FunctionWithParam(name):\n",
    "    '''\n",
    "    function with string parameter\n",
    "    '''\n",
    "    print(\"Hi {}\".format(name))\n",
    "    \n",
    "FunctionWithParam(\"Shubham Goel\")"
   ]
  },
  {
   "cell_type": "code",
   "execution_count": 13,
   "metadata": {},
   "outputs": [
    {
     "name": "stdout",
     "output_type": "stream",
     "text": [
      "Hi Mohan\n"
     ]
    }
   ],
   "source": [
    "FunctionWithParam(\"Mohan\")"
   ]
  },
  {
   "cell_type": "code",
   "execution_count": 15,
   "metadata": {},
   "outputs": [
    {
     "data": {
      "text/plain": [
       "16"
      ]
     },
     "execution_count": 15,
     "metadata": {},
     "output_type": "execute_result"
    }
   ],
   "source": [
    "def SquareValue(num):\n",
    "    return num**2\n",
    "\n",
    "a  = SquareValue(4)\n",
    "a"
   ]
  },
  {
   "cell_type": "code",
   "execution_count": 16,
   "metadata": {},
   "outputs": [
    {
     "data": {
      "text/plain": [
       "['hello', 'python', 'you', 'are', 'easy', 'right']"
      ]
     },
     "execution_count": 16,
     "metadata": {},
     "output_type": "execute_result"
    }
   ],
   "source": [
    "lst = ['hello','python','you','are','easy','right']\n",
    "lst"
   ]
  },
  {
   "cell_type": "code",
   "execution_count": 21,
   "metadata": {},
   "outputs": [],
   "source": [
    "def lstExample(lst):\n",
    "    for item in lst:\n",
    "        if len(item)%2 == 0 :\n",
    "            print(item[0:1])\n",
    "        else:\n",
    "            print(item.upper())"
   ]
  },
  {
   "cell_type": "code",
   "execution_count": 22,
   "metadata": {},
   "outputs": [
    {
     "name": "stdout",
     "output_type": "stream",
     "text": [
      "HELLO\n",
      "p\n",
      "YOU\n",
      "ARE\n",
      "e\n",
      "RIGHT\n"
     ]
    }
   ],
   "source": [
    "lstExample(lst)"
   ]
  },
  {
   "cell_type": "code",
   "execution_count": 31,
   "metadata": {},
   "outputs": [],
   "source": [
    "d = {'key1' : 'val1','key2' : 'val2', 'key3' : 'val3'}"
   ]
  },
  {
   "cell_type": "code",
   "execution_count": 32,
   "metadata": {},
   "outputs": [],
   "source": [
    "def dictExample(d):\n",
    "    for item in d:\n",
    "        print(item,\":\",d[item])"
   ]
  },
  {
   "cell_type": "code",
   "execution_count": 33,
   "metadata": {},
   "outputs": [
    {
     "name": "stdout",
     "output_type": "stream",
     "text": [
      "key1 : val1\n",
      "key2 : val2\n",
      "key3 : val3\n"
     ]
    }
   ],
   "source": [
    "dictExample(d)"
   ]
  },
  {
   "cell_type": "code",
   "execution_count": 40,
   "metadata": {},
   "outputs": [],
   "source": [
    "def addtionArgs(*args):\n",
    "    print(type(args)) #passes as a tuple\n",
    "    result = 0;\n",
    "    for i in args:\n",
    "        result += i\n",
    "    return result"
   ]
  },
  {
   "cell_type": "code",
   "execution_count": 41,
   "metadata": {},
   "outputs": [
    {
     "name": "stdout",
     "output_type": "stream",
     "text": [
      "<class 'tuple'>\n"
     ]
    },
    {
     "data": {
      "text/plain": [
       "10"
      ]
     },
     "execution_count": 41,
     "metadata": {},
     "output_type": "execute_result"
    }
   ],
   "source": [
    "addtionArgs(1,2,3,4)"
   ]
  },
  {
   "cell_type": "code",
   "execution_count": 48,
   "metadata": {},
   "outputs": [],
   "source": [
    "def kwargsExample(**kwargs):\n",
    "    print(type(kwargs))  #Treated as dictionary\n",
    "    for item in kwargs:\n",
    "        print(\"This Fruit (\",item,\") Costs :\",kwargs[item])"
   ]
  },
  {
   "cell_type": "code",
   "execution_count": 49,
   "metadata": {},
   "outputs": [
    {
     "name": "stdout",
     "output_type": "stream",
     "text": [
      "<class 'dict'>\n",
      "This Fruit ( mango ) Costs : 100\n",
      "This Fruit ( apple ) Costs : 200\n",
      "This Fruit ( orange ) Costs : 50\n"
     ]
    }
   ],
   "source": [
    "kwargsExample(mango=100,apple=200,orange=50)"
   ]
  },
  {
   "cell_type": "code",
   "execution_count": 52,
   "metadata": {},
   "outputs": [],
   "source": [
    "def argskwargsExample(*args,**kwargs):\n",
    "    print(type(kwargs))  #Treated as dictionary\n",
    "    for item in kwargs:\n",
    "        print(item,\":\",kwargs[item])\n",
    "    \n",
    "    print(type(args)) #passes as a tuple\n",
    "    result = 0;\n",
    "    for i in args:\n",
    "        result += i\n",
    "    print(result)\n",
    "    "
   ]
  },
  {
   "cell_type": "code",
   "execution_count": 56,
   "metadata": {},
   "outputs": [
    {
     "name": "stdout",
     "output_type": "stream",
     "text": [
      "<class 'dict'>\n",
      "a : 5\n",
      "b : 6\n",
      "c : 7\n",
      "<class 'tuple'>\n",
      "15\n"
     ]
    }
   ],
   "source": [
    "argskwargsExample(1,2,3,4,5,a=5,b=6,c=7)"
   ]
  },
  {
   "cell_type": "code",
   "execution_count": 57,
   "metadata": {},
   "outputs": [
    {
     "ename": "SyntaxError",
     "evalue": "positional argument follows keyword argument (<ipython-input-57-ae5af36ae4b0>, line 1)",
     "output_type": "error",
     "traceback": [
      "\u001b[1;36m  File \u001b[1;32m\"<ipython-input-57-ae5af36ae4b0>\"\u001b[1;36m, line \u001b[1;32m1\u001b[0m\n\u001b[1;33m    argskwargsExample(a=5,b=6,c=7,1,2,3,4,5) #Gives Error\u001b[0m\n\u001b[1;37m                                 ^\u001b[0m\n\u001b[1;31mSyntaxError\u001b[0m\u001b[1;31m:\u001b[0m positional argument follows keyword argument\n"
     ]
    }
   ],
   "source": [
    "argskwargsExample(a=5,b=6,c=7,1,2,3,4,5) #Gives Error"
   ]
  },
  {
   "cell_type": "code",
   "execution_count": 58,
   "metadata": {},
   "outputs": [
    {
     "ename": "SyntaxError",
     "evalue": "positional argument follows keyword argument (<ipython-input-58-4415c316c3f7>, line 1)",
     "output_type": "error",
     "traceback": [
      "\u001b[1;36m  File \u001b[1;32m\"<ipython-input-58-4415c316c3f7>\"\u001b[1;36m, line \u001b[1;32m1\u001b[0m\n\u001b[1;33m    argskwargsExample(1,2,a=5,b=6,c=7,3,4,5) #Gives Error\u001b[0m\n\u001b[1;37m                                     ^\u001b[0m\n\u001b[1;31mSyntaxError\u001b[0m\u001b[1;31m:\u001b[0m positional argument follows keyword argument\n"
     ]
    }
   ],
   "source": [
    "argskwargsExample(1,2,a=5,b=6,c=7,3,4,5) #Gives Error"
   ]
  },
  {
   "cell_type": "code",
   "execution_count": 60,
   "metadata": {},
   "outputs": [],
   "source": [
    "#lambda functions (unnamed functions)\n",
    "a = lambda num:num**2"
   ]
  },
  {
   "cell_type": "code",
   "execution_count": 61,
   "metadata": {},
   "outputs": [
    {
     "data": {
      "text/plain": [
       "function"
      ]
     },
     "execution_count": 61,
     "metadata": {},
     "output_type": "execute_result"
    }
   ],
   "source": [
    "type(a)"
   ]
  },
  {
   "cell_type": "code",
   "execution_count": 62,
   "metadata": {},
   "outputs": [
    {
     "data": {
      "text/plain": [
       "16"
      ]
     },
     "execution_count": 62,
     "metadata": {},
     "output_type": "execute_result"
    }
   ],
   "source": [
    "a(4)"
   ]
  },
  {
   "cell_type": "code",
   "execution_count": 63,
   "metadata": {},
   "outputs": [
    {
     "data": {
      "text/plain": [
       "<function __main__.<lambda>(num)>"
      ]
     },
     "execution_count": 63,
     "metadata": {},
     "output_type": "execute_result"
    }
   ],
   "source": [
    "a"
   ]
  },
  {
   "cell_type": "code",
   "execution_count": 64,
   "metadata": {},
   "outputs": [
    {
     "data": {
      "text/plain": [
       "[1, 4, 9, 16]"
      ]
     },
     "execution_count": 64,
     "metadata": {},
     "output_type": "execute_result"
    }
   ],
   "source": [
    "#Map\n",
    "list(map(SquareValue,[1,2,3,4]))"
   ]
  },
  {
   "cell_type": "code",
   "execution_count": 65,
   "metadata": {},
   "outputs": [
    {
     "data": {
      "text/plain": [
       "[1, 4, 9, 16]"
      ]
     },
     "execution_count": 65,
     "metadata": {},
     "output_type": "execute_result"
    }
   ],
   "source": [
    "list(map(lambda num:num**2,[1,2,3,4]))"
   ]
  },
  {
   "cell_type": "code",
   "execution_count": 66,
   "metadata": {},
   "outputs": [
    {
     "data": {
      "text/plain": [
       "[2, 4]"
      ]
     },
     "execution_count": 66,
     "metadata": {},
     "output_type": "execute_result"
    }
   ],
   "source": [
    "list(filter(lambda num:num%2==0,[1,2,3,4]))"
   ]
  },
  {
   "cell_type": "code",
   "execution_count": 68,
   "metadata": {},
   "outputs": [
    {
     "data": {
      "text/plain": [
       "[1, 3, 5, 7, 9, 11, 13, 15, 17, 19]"
      ]
     },
     "execution_count": 68,
     "metadata": {},
     "output_type": "execute_result"
    }
   ],
   "source": [
    "#filter\n",
    "lst = []\n",
    "for i in range(1,21):\n",
    "    lst.append(i)\n",
    "\n",
    "list(filter(lambda num:num%2==1,lst))"
   ]
  },
  {
   "cell_type": "code",
   "execution_count": 69,
   "metadata": {},
   "outputs": [
    {
     "data": {
      "text/plain": [
       "[4, 16, 36, 64]"
      ]
     },
     "execution_count": 69,
     "metadata": {},
     "output_type": "execute_result"
    }
   ],
   "source": [
    "lst = []\n",
    "for i in range(1,10):\n",
    "    lst.append(i)\n",
    "\n",
    "list(map(lambda num:num**2,list(filter(lambda num:num%2==0,lst))))"
   ]
  },
  {
   "cell_type": "code",
   "execution_count": 71,
   "metadata": {},
   "outputs": [],
   "source": [
    "#Reduce\n",
    "from functools import reduce"
   ]
  },
  {
   "cell_type": "code",
   "execution_count": 77,
   "metadata": {},
   "outputs": [
    {
     "data": {
      "text/plain": [
       "[1, 2, 3, 4, 5, 6, 7, 8, 9]"
      ]
     },
     "execution_count": 77,
     "metadata": {},
     "output_type": "execute_result"
    }
   ],
   "source": [
    "lst"
   ]
  },
  {
   "cell_type": "code",
   "execution_count": 78,
   "metadata": {},
   "outputs": [],
   "source": [
    "x = (reduce(lambda a,b:a+b,lst))  #Not returns a list"
   ]
  },
  {
   "cell_type": "code",
   "execution_count": 79,
   "metadata": {},
   "outputs": [
    {
     "data": {
      "text/plain": [
       "45"
      ]
     },
     "execution_count": 79,
     "metadata": {},
     "output_type": "execute_result"
    }
   ],
   "source": [
    "x"
   ]
  },
  {
   "cell_type": "code",
   "execution_count": 80,
   "metadata": {},
   "outputs": [],
   "source": [
    "def func(param):\n",
    "    print(\"func\")\n",
    "    param()\n",
    "    print(\"just executed passed function\")\n",
    "\n",
    "def func1():\n",
    "    print(\"Hi, I am func1 !\")"
   ]
  },
  {
   "cell_type": "code",
   "execution_count": 81,
   "metadata": {},
   "outputs": [
    {
     "name": "stdout",
     "output_type": "stream",
     "text": [
      "func\n",
      "Hi, I am func1 !\n",
      "just executed passed function\n"
     ]
    }
   ],
   "source": [
    "func(func1) #function passing"
   ]
  },
  {
   "cell_type": "code",
   "execution_count": 82,
   "metadata": {},
   "outputs": [],
   "source": [
    "def return_test():\n",
    "    print(\"This test is to check if function can be returned\")\n",
    "    \n",
    "    def rt():\n",
    "        print(\"This is a returned function\")\n",
    "    \n",
    "    rt()"
   ]
  },
  {
   "cell_type": "code",
   "execution_count": 83,
   "metadata": {
    "scrolled": true
   },
   "outputs": [
    {
     "name": "stdout",
     "output_type": "stream",
     "text": [
      "This test is to check if function can be returned\n",
      "This is a returned function\n"
     ]
    }
   ],
   "source": [
    "return_test()"
   ]
  },
  {
   "cell_type": "code",
   "execution_count": 84,
   "metadata": {},
   "outputs": [],
   "source": [
    "def return_test_1():\n",
    "    print(\"This test is to check if function can be returned\")\n",
    "    \n",
    "    def rt_1():\n",
    "        print(\"This is a returned function\")\n",
    "    \n",
    "    return rt_1"
   ]
  },
  {
   "cell_type": "code",
   "execution_count": 85,
   "metadata": {},
   "outputs": [
    {
     "name": "stdout",
     "output_type": "stream",
     "text": [
      "This test is to check if function can be returned\n"
     ]
    },
    {
     "data": {
      "text/plain": [
       "function"
      ]
     },
     "execution_count": 85,
     "metadata": {},
     "output_type": "execute_result"
    }
   ],
   "source": [
    "z = return_test_1()\n",
    "type(z)"
   ]
  },
  {
   "cell_type": "code",
   "execution_count": 86,
   "metadata": {},
   "outputs": [
    {
     "name": "stdout",
     "output_type": "stream",
     "text": [
      "This is a returned function\n"
     ]
    }
   ],
   "source": [
    "z()"
   ]
  },
  {
   "cell_type": "code",
   "execution_count": 87,
   "metadata": {},
   "outputs": [],
   "source": [
    "#Decorators\n",
    "def existing_code():\n",
    "    print(\"I am existing one !\")\n",
    "    print(\"You can add something extra\")"
   ]
  },
  {
   "cell_type": "code",
   "execution_count": 88,
   "metadata": {},
   "outputs": [],
   "source": [
    "def extra_functionality(func):\n",
    "    def wrapper_for_return():\n",
    "        print(\"I am new functionality 1\")\n",
    "        print(\"I am new functionality 2\")\n",
    "        func()\n",
    "        print(\"I am new functionality 3\")\n",
    "    \n",
    "    return wrapper_for_return "
   ]
  },
  {
   "cell_type": "code",
   "execution_count": 95,
   "metadata": {},
   "outputs": [],
   "source": [
    "@extra_functionality\n",
    "def existing_code():\n",
    "    print(\"I am existing one !\")\n",
    "    print(\"You can add something extra\")"
   ]
  },
  {
   "cell_type": "code",
   "execution_count": 96,
   "metadata": {},
   "outputs": [
    {
     "name": "stdout",
     "output_type": "stream",
     "text": [
      "I am new functionality 1\n",
      "I am new functionality 2\n",
      "I am existing one !\n",
      "You can add something extra\n",
      "I am new functionality 3\n"
     ]
    }
   ],
   "source": [
    "existing_code()"
   ]
  },
  {
   "cell_type": "code",
   "execution_count": 104,
   "metadata": {},
   "outputs": [
    {
     "name": "stdout",
     "output_type": "stream",
     "text": [
      "I am existing one !\n",
      "You can add something extra\n"
     ]
    }
   ],
   "source": [
    "#@extra_functionality\n",
    "def existing_code():\n",
    "    print(\"I am existing one !\")\n",
    "    print(\"You can add something extra\")\n",
    "existing_code()"
   ]
  },
  {
   "cell_type": "code",
   "execution_count": 112,
   "metadata": {},
   "outputs": [
    {
     "name": "stdout",
     "output_type": "stream",
     "text": [
      "I am existing one !\n",
      "You can add something extra\n"
     ]
    }
   ],
   "source": [
    "existing_code()"
   ]
  },
  {
   "cell_type": "code",
   "execution_count": 117,
   "metadata": {},
   "outputs": [
    {
     "name": "stdout",
     "output_type": "stream",
     "text": [
      "1\n",
      "8\n",
      "27\n",
      "64\n"
     ]
    }
   ],
   "source": [
    "#Generators\n",
    "def cube(num):\n",
    "    for i in num:\n",
    "        yield i**3\n",
    "\n",
    "lst= [1,2,3,4]\n",
    "for x in cube(lst):\n",
    "    print(x)"
   ]
  },
  {
   "cell_type": "code",
   "execution_count": 118,
   "metadata": {},
   "outputs": [
    {
     "name": "stdout",
     "output_type": "stream",
     "text": [
      "You made the type error!\n",
      "I will always execute!\n"
     ]
    }
   ],
   "source": [
    "#Exception Handling\n",
    "try:\n",
    "    print(2+'3')\n",
    "except TypeError : #Specific error\n",
    "    print(\"You made the type error!\")\n",
    "except: #General Exception Block\n",
    "    print(\"Something happened!\")\n",
    "else : #Executes on the success of the try block\n",
    "    print(\"Sum is complete!\")\n",
    "finally:\n",
    "    print(\"I will always execute!\")"
   ]
  },
  {
   "cell_type": "code",
   "execution_count": 119,
   "metadata": {},
   "outputs": [
    {
     "name": "stdout",
     "output_type": "stream",
     "text": [
      "5\n",
      "Sum is complete!\n",
      "I will always execute!\n"
     ]
    }
   ],
   "source": [
    "#Exception Handling\n",
    "try:\n",
    "    print(2+3)\n",
    "except TypeError : #Specific error\n",
    "    print(\"You made the type error!\")\n",
    "except: #General Exception Block\n",
    "    print(\"Something happened!\")\n",
    "else : #Executes on the success of the try block\n",
    "    print(\"Sum is complete!\")\n",
    "finally:\n",
    "    print(\"I will always execute!\")"
   ]
  },
  {
   "cell_type": "code",
   "execution_count": null,
   "metadata": {},
   "outputs": [],
   "source": []
  }
 ],
 "metadata": {
  "kernelspec": {
   "display_name": "Python 3",
   "language": "python",
   "name": "python3"
  },
  "language_info": {
   "codemirror_mode": {
    "name": "ipython",
    "version": 3
   },
   "file_extension": ".py",
   "mimetype": "text/x-python",
   "name": "python",
   "nbconvert_exporter": "python",
   "pygments_lexer": "ipython3",
   "version": "3.7.0"
  }
 },
 "nbformat": 4,
 "nbformat_minor": 2
}
