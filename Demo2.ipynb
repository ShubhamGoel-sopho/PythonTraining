{
 "cells": [
  {
   "cell_type": "code",
   "execution_count": 9,
   "metadata": {},
   "outputs": [
    {
     "name": "stdout",
     "output_type": "stream",
     "text": [
      "Enter you input \n",
      " 1.Add \n",
      " 2.Subtract \n",
      " 3.Multiply \n",
      " 4.Divide \n",
      "1\n"
     ]
    }
   ],
   "source": [
    "choice = int(input(\"Enter you input \\n 1.Add \\n 2.Subtract \\n 3.Multiply \\n 4.Divide \\n\"))"
   ]
  },
  {
   "cell_type": "code",
   "execution_count": 10,
   "metadata": {},
   "outputs": [
    {
     "name": "stdout",
     "output_type": "stream",
     "text": [
      "Enter first number :2\n",
      "Enter second number :sddfs\n",
      "Enter first number :1\n",
      "Enter second number :2\n",
      "Result is 3\n"
     ]
    }
   ],
   "source": [
    "condition = True\n",
    "a = input(\"Enter first number :\")\n",
    "b = input(\"Enter second number :\")\n",
    "while condition:\n",
    "\n",
    "    if a.isnumeric() and b.isnumeric() :\n",
    "        condition = False\n",
    "    else:\n",
    "        if not a.isnumeric():\n",
    "            a = input(\"Enter first number :\")\n",
    "        \n",
    "        if not b.isnumeric():\n",
    "            b = input(\"Enter second number :\")\n",
    "            \n",
    "        condition = True\n",
    "    \n",
    "a = int(a)\n",
    "b = int(b)\n",
    "\n",
    "if choice == 1 :\n",
    "    result = a + b\n",
    "    print(\"Result is {}\".format(result))\n",
    "elif choice == 2 :\n",
    "    result = a - b\n",
    "    print(\"Result is {}\".format(result))\n",
    "elif choice == 3 :\n",
    "    result = a * b\n",
    "    print(\"Result is {}\".format(result))\n",
    "else:\n",
    "    print(\"Result is {result:5.3f}\".format(result=a/b)"
   ]
  },
  {
   "cell_type": "code",
   "execution_count": null,
   "metadata": {},
   "outputs": [],
   "source": []
  },
  {
   "cell_type": "code",
   "execution_count": null,
   "metadata": {},
   "outputs": [],
   "source": []
  }
 ],
 "metadata": {
  "kernelspec": {
   "display_name": "Python 3",
   "language": "python",
   "name": "python3"
  },
  "language_info": {
   "codemirror_mode": {
    "name": "ipython",
    "version": 3
   },
   "file_extension": ".py",
   "mimetype": "text/x-python",
   "name": "python",
   "nbconvert_exporter": "python",
   "pygments_lexer": "ipython3",
   "version": "3.7.0"
  }
 },
 "nbformat": 4,
 "nbformat_minor": 2
}
